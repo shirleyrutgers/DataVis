{
  "nbformat": 4,
  "nbformat_minor": 0,
  "metadata": {
    "colab": {
      "provenance": [],
      "include_colab_link": true
    },
    "kernelspec": {
      "name": "python3",
      "display_name": "Python 3"
    },
    "language_info": {
      "name": "python"
    }
  },
  "cells": [
    {
      "cell_type": "markdown",
      "metadata": {
        "id": "view-in-github",
        "colab_type": "text"
      },
      "source": [
        "<a href=\"https://colab.research.google.com/github/shirleyrutgers/DataVis/blob/main/Shirley%20AI.ipynb\" target=\"_parent\"><img src=\"https://colab.research.google.com/assets/colab-badge.svg\" alt=\"Open In Colab\"/></a>"
      ]
    },
    {
      "cell_type": "markdown",
      "source": [
        "#Shirley AI\n",
        "##Your Business Model AI Tutor"
      ],
      "metadata": {
        "id": "7pHdE6pltOco"
      }
    },
    {
      "cell_type": "code",
      "execution_count": 3,
      "metadata": {
        "id": "GAqZWWArtL2_"
      },
      "outputs": [],
      "source": [
        "#!pip install openai"
      ]
    },
    {
      "cell_type": "code",
      "source": [
        "#from openai import OpenAI\n",
        "#client = OpenAI()\n",
        "\n",
        "#response = client.chat.completions.create(\n",
        "#    model=\"gpt-4o-mini\",\n",
        "#    messages=[{\n",
        "#        \"role\": \"user\",\n",
        "#        \"content\": [\n",
        "#            {\"type\": \"text\", \"text\": \"What's in this image?\"},\n",
        "#            {\n",
        "#                \"type\": \"image_url\",\n",
        "#                \"image_url\": {\n",
        "#                    \"url\": \"https://upload.wikimedia.org/wikipedia/commons/thumb/d/dd/Gfp-wisconsin-madison-the-nature-boardwalk.jpg/2560px-Gfp-wisconsin-madison-the-nature-boardwalk.jpg\",\n",
        "#                },\n",
        "#            },\n",
        "#        ],\n",
        "#    }],\n",
        "#)\n",
        "\n",
        "#print(response.choices[0].message.content)"
      ],
      "metadata": {
        "id": "eB25nXu1vSKK"
      },
      "execution_count": 4,
      "outputs": []
    }
  ]
}