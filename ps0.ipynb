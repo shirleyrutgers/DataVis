{
  "nbformat": 4,
  "nbformat_minor": 0,
  "metadata": {
    "colab": {
      "provenance": [],
      "authorship_tag": "ABX9TyMOoJ3iGj2ijV1ywaYvUbLF",
      "include_colab_link": true
    },
    "kernelspec": {
      "name": "python3",
      "display_name": "Python 3"
    },
    "language_info": {
      "name": "python"
    }
  },
  "cells": [
    {
      "cell_type": "markdown",
      "metadata": {
        "id": "view-in-github",
        "colab_type": "text"
      },
      "source": [
        "<a href=\"https://colab.research.google.com/github/shirleyrutgers/DataVis/blob/main/ps0.ipynb\" target=\"_parent\"><img src=\"https://colab.research.google.com/assets/colab-badge.svg\" alt=\"Open In Colab\"/></a>"
      ]
    },
    {
      "cell_type": "code",
      "execution_count": null,
      "metadata": {
        "id": "lJe1mvZq8JXF"
      },
      "outputs": [],
      "source": []
    },
    {
      "cell_type": "markdown",
      "source": [
        "# Analysis of Entrepreneurship in New Jersey\n",
        "\n",
        "## Research Question:\n",
        "How does the age of business influence job creation in New Jersey?\n",
        "\n",
        "## Hypothesis:\n",
        "Younger companies (0-1 years) generate more jobs compared to older companies (11+ years).\n",
        "\n",
        "## Variables:\n",
        "Independent Variable: Age of the company (young vs. established).\n",
        "Dependent variable: Proportion of jobs generated in the private sector.\n",
        "\n",
        "## Analysis:\n",
        "*   Calculation of the proportion of jobs created by young and established companies in each sector, in New Jersey, USA.\n",
        "*   Descriptive statistics and correlation graphic analysis to evaluate the relationship between the average age of the company and the number of jobs generated.\n",
        "\n",
        "## Description\n",
        "The Entrepreneurial Jobs series provided by Kauffman Foundation (2025),are Indicators of Entrepreneurship that measures entrepreneurial trends in the United States.\n",
        "\n",
        "To analyze the relationship between the age of companies and the proportion of jobs they generate, I use the variables found in the file:\n",
        "\n",
        "## Variables from the Dataset\n",
        "\n",
        "* fips: State FIPS code (34 for New Jersey).\n",
        "* name: Name of the state (New Jersey).\n",
        "* geo_level: Geographic level (S for state).\n",
        "* year: Year of the data.\n",
        "* demographic-type: Type of demographic classification (here \"Age of Business\", which indicates the age of the business).\n",
        "* demographic-code: Numerical code for the age category of the business.\n",
        "demographic: Age category of the business (Example: \"Ages 0 to 1\", \"Ages 2 to 3\", etc.).\n",
        "* contribution: Contribution of this group to entrepreneurial jobs.\n",
        "* compensation: Level of compensation (wages).\n",
        "* constancy: Level of stability or retention of employment.\n",
        "* creation: Job creation (change in jobs generated).\n",
        "\n",
        "## Sources\n",
        "Ewing Marion Kauffman Foundation. Kauffman Indicators of Entrepreneurship (2025)\n",
        "https://indicators.kauffman.org/data-downloads\n"
      ],
      "metadata": {
        "id": "CKxEjlEwGd7R"
      }
    },
    {
      "cell_type": "code",
      "source": [
        "from online and save in colab as ex1.csv; note it's from: https://conjointly.com/kb/correlation-statistic/\n",
        "#urllib.request.urlretrieve(\"https://drive.google.com/uc?id=1YH8DfzsQ8suZkVQBk7T9FTKvvm9Vyej8&export=download\", \"ex1.csv\")\n",
        "!wget -q -O ex1.csv https://drive.google.com/uc?id=1YH8DfzsQ8suZkVQBk7T9FTKvvm9Vyej8&export=download"
      ],
      "metadata": {
        "colab": {
          "base_uri": "https://localhost:8080/",
          "height": 124
        },
        "id": "BpvwjxFf8dR2",
        "outputId": "1ac0124a-1453-4b16-b2a1-c0add34a1fca"
      },
      "execution_count": null,
      "outputs": [
        {
          "output_type": "error",
          "ename": "SyntaxError",
          "evalue": "unterminated string literal (detected at line 1) (<ipython-input-1-cf1feb94bd06>, line 1)",
          "traceback": [
            "\u001b[0;36m  File \u001b[0;32m\"<ipython-input-1-cf1feb94bd06>\"\u001b[0;36m, line \u001b[0;32m1\u001b[0m\n\u001b[0;31m    from online and save in colab as ex1.csv; note it's from: https://conjointly.com/kb/correlation-statistic/\u001b[0m\n\u001b[0m                                                     ^\u001b[0m\n\u001b[0;31mSyntaxError\u001b[0m\u001b[0;31m:\u001b[0m unterminated string literal (detected at line 1)\n"
          ]
        }
      ]
    }
  ]
}